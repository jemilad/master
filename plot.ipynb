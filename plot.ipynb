{
 "cells": [
  {
   "cell_type": "code",
   "execution_count": 1,
   "id": "36a1f689-6894-4349-9837-eb5d34561099",
   "metadata": {},
   "outputs": [],
   "source": [
    "import matplotlib.pyplot as plt \n",
    "#function for plotting mfccs\n",
    "import numpy as np \n",
    "\n",
    "\n",
    "\n",
    "def plot_mfccs(sig, sr, hop_length):\n",
    "    #hop_length = 512 \n",
    "    #n_fft = 2048\n",
    "    #mfccs = librosa.feature.mfcc(sig, sr, n_fft=n_fft, hop_length=hop_length, n_mfcc=13)\n",
    "    print(sig.shape)\n",
    "    plt.figure(figsize=fig_size)\n",
    "    librosa.display.specshow(sig, sr=sr, hop_length=hop_length)\n",
    "    plt.xlabel(\"Time\")\n",
    "    plt.ylabel(\"MFCC coefficients\")\n",
    "    plt.colorbar()\n",
    "    plt.title\n",
    "    plt.show()\n",
    "\n",
    "#function for plotting waveform\n",
    "\n",
    "def plot_waveform(sig, sr):\n",
    "    plt.figure(figsize=fig_size)\n",
    "    librosa.display.waveplot(sig, sr)\n",
    "    plt.xlabel(\"Time (s)\")\n",
    "    plt.ylabel(\"Amplitude\")\n",
    "    plt.title(\"Waveform\")\n",
    "    plt.show()\n",
    "    \n",
    "#Function for plotting the confusion matrix\n",
    "def plot_confusion_matrix(cm, classes, title='Confusion  Matrix', cmap = plt.cm.Blues):        \n",
    "        \n",
    "    plt.subplots(figsize = (6, 6))\n",
    "    plt.imshow(cm, interpolation = 'nearest', cmap = cmap)\n",
    "    plt.title(title)\n",
    "    plt.colorbar()\n",
    "    tick_marks = np.arange(len(classes))\n",
    "    plt.xticks(tick_marks, classes)\n",
    "    plt.yticks(tick_marks, classes)\n",
    "\n",
    "\n",
    "    thresh = cm.max() / 2.\n",
    "    for i in range(cm.shape[0]):\n",
    "        for j in range(cm.shape[1]):\n",
    "            plt.text(x = j, y = i, s = cm[i, j],\n",
    "                    horizontalalignment = \"center\",\n",
    "                    color = \"white\" if cm[i, j] > thresh else \"black\", size = 'xx-large')\n",
    "        \n",
    "    \n",
    "    plt.ylabel('True label')\n",
    "    plt.xlabel('Predicted label')\n",
    "    plt.tight_layout()\n",
    "    #plt.ylim(len(cm)-0.5, 0.5)\n",
    "    plt.show\n"
   ]
  },
  {
   "cell_type": "code",
   "execution_count": null,
   "id": "f2a83a44-8ea4-4e3a-9578-43d81f2328a8",
   "metadata": {},
   "outputs": [],
   "source": []
  }
 ],
 "metadata": {
  "kernelspec": {
   "display_name": "master",
   "language": "python",
   "name": "master"
  },
  "language_info": {
   "codemirror_mode": {
    "name": "ipython",
    "version": 3
   },
   "file_extension": ".py",
   "mimetype": "text/x-python",
   "name": "python",
   "nbconvert_exporter": "python",
   "pygments_lexer": "ipython3",
   "version": "3.7.12"
  }
 },
 "nbformat": 4,
 "nbformat_minor": 5
}
