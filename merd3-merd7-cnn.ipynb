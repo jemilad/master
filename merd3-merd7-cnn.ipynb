{
 "cells": [
  {
   "cell_type": "code",
   "execution_count": 1,
   "metadata": {},
   "outputs": [],
   "source": [
    "import os\n",
    "# for data transformation \n",
    "import numpy as np \n",
    "from tensorflow import keras\n",
    "# for audio pre processing\n",
    "import librosa, librosa.display\n",
    "# for visualizing the data \n",
    "import matplotlib.pyplot as plt \n",
    "#splitting into train and test\n",
    "from sklearn.model_selection import train_test_split\n",
    "\n",
    "from keras.models import Sequential,Input,Model\n",
    "\n",
    "from keras.layers import Conv1D, MaxPooling1D\n",
    "\n",
    "from keras.layers.advanced_activations import LeakyReLU\n",
    "\n",
    "from keras.layers import Dense, Dropout, Flatten\n",
    "\n",
    "from sklearn.metrics import confusion_matrix\n",
    "\n",
    "import sklearn\n"
   ]
  },
  {
   "cell_type": "code",
   "execution_count": 2,
   "metadata": {},
   "outputs": [],
   "source": [
    "def get_path(path):\n",
    "    newpath = []\n",
    "    os.chdir(path)\n",
    "    for file in os.listdir():\n",
    "        if file.endswith(\".wav\"):\n",
    "            file_path = f\"{path}\\{file}\"\n",
    "            newpath.append(file_path)\n",
    "    return newpath\n"
   ]
  },
  {
   "cell_type": "code",
   "execution_count": 3,
   "metadata": {},
   "outputs": [],
   "source": [
    "#function for plotting waveform\n",
    "\n",
    "def plot_waveform(sig, sr):\n",
    "    plt.figure(figsize=fig_size)\n",
    "    librosa.display.waveplot(sig, sr)\n",
    "    plt.xlabel(\"Time (s)\")\n",
    "    plt.ylabel(\"Amplitude\")\n",
    "    plt.title(\"Waveform\")\n",
    "    plt.show()\n",
    "    \n"
   ]
  },
  {
   "cell_type": "code",
   "execution_count": 4,
   "metadata": {},
   "outputs": [],
   "source": [
    "#function for plotting ffts\n",
    "\n",
    "def plot_fft(sig, sr):\n",
    "    fft = np.fft.fft(sig)\n",
    "    spectrum = np.abs(fft)\n",
    "    f = np.linspace(0, sr, len(spectrum))\n",
    "    left_spectrum = spectrum[:int(len(spectrum)/2)]\n",
    "    left_f = f[:int(len(spectrum)/2)]\n",
    "    plt.figure(figsize=fig_size)\n",
    "    plt.plot(left_f, left_spectrum)\n",
    "    plt.xlabel(\"Frequency\")\n",
    "    plt.ylabel(\"Magnitude\")\n",
    "    plt.title(\"Power spectrum\")\n",
    "    #plt.ylim(-1,2)\n",
    "    plt.show()\n",
    "    \n"
   ]
  },
  {
   "cell_type": "code",
   "execution_count": 5,
   "metadata": {},
   "outputs": [],
   "source": [
    "#function for plotting mfccs\n",
    "\n",
    "def plot_mfccs(sig, sr):\n",
    "    hop_length = 512 \n",
    "    n_fft = 2048\n",
    "    mfccs = librosa.feature.mfcc(sig, sr, n_fft=n_fft, hop_length=hop_length, n_mfcc=13)\n",
    "    print(mfccs.shape)\n",
    "    plt.figure(figsize=fig_size)\n",
    "    librosa.display.specshow(mfccs, sr=sr, hop_length=hop_length)\n",
    "    plt.xlabel(\"Time\")\n",
    "    plt.ylabel(\"MFCC coefficients\")\n",
    "    plt.colorbar()\n",
    "    plt.title\n",
    "    plt.show()\n"
   ]
  },
  {
   "cell_type": "code",
   "execution_count": 6,
   "metadata": {},
   "outputs": [],
   "source": [
    "#Function for plotting the confusion matrix\n",
    "def plot_confusion_matrix(cm, classes, title='Confusion  Matrix', cmap = plt.cm.Blues):\n",
    "        \n",
    "        \n",
    "    plt.subplots(figsize = (6, 6))\n",
    "    plt.imshow(cm, interpolation = 'nearest', cmap = cmap)\n",
    "    plt.title(title)\n",
    "    plt.colorbar()\n",
    "    tick_marks = np.arange(len(classes))\n",
    "    plt.xticks(tick_marks, classes)\n",
    "    plt.yticks(tick_marks, classes)\n",
    "\n",
    "\n",
    "    thresh = cm.max() / 2.\n",
    "    for i in range(cm.shape[0]):\n",
    "        for j in range(cm.shape[1]):\n",
    "            plt.text(x = j, y = i, s = cm[i, j],\n",
    "                    horizontalalignment = \"center\",\n",
    "                    color = \"white\" if cm[i, j] > thresh else \"black\", size = 'xx-large')\n",
    "        \n",
    "    \n",
    "    plt.ylabel('True label')\n",
    "    plt.xlabel('Predicted label')\n",
    "    plt.tight_layout()\n",
    "    #plt.ylim(len(cm)-0.5, 0.5)\n",
    "    plt.show\n",
    "\n",
    "    "
   ]
  },
  {
   "cell_type": "code",
   "execution_count": 7,
   "metadata": {},
   "outputs": [
    {
     "name": "stdout",
     "output_type": "stream",
     "text": [
      "loading... category: merd3_chunked\n",
      "loaded category: merd3_chunked successfully\n",
      "loading... category: merd7_chunked\n",
      "loaded category: merd7_chunked successfully\n"
     ]
    }
   ],
   "source": [
    "\n",
    "\n",
    "targets = ['merd3', 'merd7']\n",
    "targets_dir = ['merd3_chunked', 'merd7_chunked']\n",
    "data_arr = []\n",
    "target_arr = []\n",
    "sample_rate_arr = []\n",
    "datadir = r'C:\\Users\\Jemil\\Desktop\\Master\\kode'\n",
    "\n",
    "for i in targets_dir:\n",
    "    print(f'loading... category: {i}')\n",
    "    path = os.path.join(datadir,i)\n",
    "    paths = get_path(path) \n",
    "    for j in range(len(paths)):\n",
    "        tempsignal, tempsample_rate = librosa.load(paths[j], sr=None)\n",
    "        data_arr.append(tempsignal)\n",
    "        sample_rate_arr.append(tempsample_rate)\n",
    "        target_arr.append(targets_dir.index(i))\n",
    "    print(f'loaded category: {i} successfully')"
   ]
  },
  {
   "cell_type": "code",
   "execution_count": 9,
   "metadata": {},
   "outputs": [
    {
     "data": {
      "text/plain": [
       "(4680, 160000)"
      ]
     },
     "execution_count": 9,
     "metadata": {},
     "output_type": "execute_result"
    }
   ],
   "source": [
    "data = np.array(data_arr)\n",
    "target = np.array(target_arr)\n",
    "target_cat = keras.utils.to_categorical(target, len(targets))\n",
    "data.shape"
   ]
  },
  {
   "cell_type": "code",
   "execution_count": null,
   "metadata": {
    "jupyter": {
     "source_hidden": true
    }
   },
   "outputs": [],
   "source": [
    "#plotting waveform, fft and 13 mfccs of data[60](from merd3) and data[2400](from merd7)\n",
    "\n",
    "fig_size = (15,10)\n",
    "\n",
    "plot_waveform(data[60], sample_rate_arr[60])\n",
    "plot_waveform(data[2400], sample_rate_arr[2400])\n",
    "\n",
    "plot_fft(data[60], sample_rate_arr[60])\n",
    "plot_fft(data[2400], sample_rate_arr[2400])\n",
    "\n",
    "plot_mfccs(data[60], sample_rate_arr[60])\n",
    "plot_mfccs(data[2400], sample_rate_arr[2400])\n",
    "\n"
   ]
  },
  {
   "cell_type": "code",
   "execution_count": 12,
   "metadata": {},
   "outputs": [
    {
     "name": "stdout",
     "output_type": "stream",
     "text": [
      "[[ 2.6565790e-03  1.5733242e-03  1.4890432e-03 ...  1.3711214e-02\n",
      "   1.2921214e-02  1.1826396e-02]\n",
      " [ 5.9366226e-05  6.6518784e-05  6.0081482e-05 ...  2.4485588e-03\n",
      "   2.3659468e-03  2.4055243e-03]\n",
      " [-6.2489556e-04 -6.3288258e-04 -6.9069909e-04 ...  3.7310123e-03\n",
      "   3.7170649e-03  3.7385225e-03]\n",
      " ...\n",
      " [ 4.3013096e-03  4.2169094e-03  4.3674707e-03 ...  1.3957024e-03\n",
      "   7.9858303e-04  4.8053265e-04]\n",
      " [ 2.7601719e-03  2.6891232e-03  2.5492907e-03 ...  4.4229031e-03\n",
      "   4.4502020e-03  4.4716597e-03]\n",
      " [-4.6354537e-03 -4.6545272e-03 -4.6715741e-03 ...  4.0078163e-03\n",
      "   4.0065050e-03  4.0326118e-03]]\n"
     ]
    }
   ],
   "source": [
    "#split in test and train\n",
    "X_train, X_test, y_train, y_test = train_test_split(data, target, test_size=0.2, random_state=42, shuffle=True)\n",
    "print(X_train)"
   ]
  },
  {
   "cell_type": "code",
   "execution_count": 13,
   "metadata": {},
   "outputs": [],
   "source": [
    "x_train = (X_train - X_train.mean()) / X_train.std()\n",
    "x_test = (X_test - X_test.mean()) / X_test.std()\n"
   ]
  },
  {
   "cell_type": "code",
   "execution_count": 189,
   "metadata": {},
   "outputs": [],
   "source": [
    "mfcc_data_arr_train = []\n",
    "for i in range(len(x_train)):\n",
    "    hop_length = 512 \n",
    "    n_fft = 2048\n",
    "    mfcc = librosa.feature.mfcc(x_train[i], sample_rate_arr[i], n_fft=n_fft, hop_length=hop_length, n_mfcc=13)\n",
    "    mfcc_data_arr_train.append(mfcc)\n",
    "mfcc_train = np.array(mfcc_data_arr_train)\n",
    "\n",
    "mfcc_data_arr_test = []\n",
    "for i in range(len(x_test)):\n",
    "    hop_length = 512 \n",
    "    n_fft = 2048\n",
    "    mfcc = librosa.feature.mfcc(x_test[i], sample_rate_arr[i], n_fft=n_fft, hop_length=hop_length, n_mfcc=13)\n",
    "    mfcc_data_arr_test.append(mfcc)\n",
    "mfcc_test = np.array(mfcc_data_arr_test)"
   ]
  },
  {
   "cell_type": "code",
   "execution_count": 200,
   "metadata": {},
   "outputs": [
    {
     "name": "stdout",
     "output_type": "stream",
     "text": [
      "Epoch 1/100\n",
      "169/169 [==============================] - 2s 7ms/step - loss: 1.3769 - accuracy: 0.8421 - val_loss: 0.1169 - val_accuracy: 0.9733\n",
      "Epoch 2/100\n",
      "169/169 [==============================] - 1s 6ms/step - loss: 0.2357 - accuracy: 0.9478 - val_loss: 0.3103 - val_accuracy: 0.8693\n",
      "Epoch 3/100\n",
      "169/169 [==============================] - 1s 6ms/step - loss: 0.1463 - accuracy: 0.9629 - val_loss: 0.3123 - val_accuracy: 0.9040\n",
      "Epoch 4/100\n",
      "169/169 [==============================] - 1s 7ms/step - loss: 0.0982 - accuracy: 0.9751 - val_loss: 0.1157 - val_accuracy: 0.9787\n",
      "Epoch 5/100\n",
      "169/169 [==============================] - 1s 6ms/step - loss: 0.0763 - accuracy: 0.9825 - val_loss: 0.0231 - val_accuracy: 0.9947\n",
      "Epoch 6/100\n",
      "169/169 [==============================] - 1s 6ms/step - loss: 0.1203 - accuracy: 0.9754 - val_loss: 0.0317 - val_accuracy: 0.9893\n",
      "Epoch 7/100\n",
      "169/169 [==============================] - 1s 6ms/step - loss: 0.1043 - accuracy: 0.9771 - val_loss: 0.0952 - val_accuracy: 0.9733\n",
      "Epoch 8/100\n",
      "169/169 [==============================] - 1s 6ms/step - loss: 0.2038 - accuracy: 0.9715 - val_loss: 0.0289 - val_accuracy: 0.9867\n",
      "Epoch 9/100\n",
      "169/169 [==============================] - 1s 6ms/step - loss: 0.0670 - accuracy: 0.9858 - val_loss: 0.0117 - val_accuracy: 0.9947\n",
      "Epoch 10/100\n",
      "169/169 [==============================] - 1s 6ms/step - loss: 0.0394 - accuracy: 0.9896 - val_loss: 0.0222 - val_accuracy: 0.9920\n",
      "Epoch 11/100\n",
      "169/169 [==============================] - 1s 6ms/step - loss: 0.0572 - accuracy: 0.9872 - val_loss: 0.0123 - val_accuracy: 0.9947\n",
      "Epoch 12/100\n",
      "169/169 [==============================] - 1s 6ms/step - loss: 0.0295 - accuracy: 0.9926 - val_loss: 0.0922 - val_accuracy: 0.9760\n",
      "Epoch 13/100\n",
      "169/169 [==============================] - 1s 6ms/step - loss: 0.0580 - accuracy: 0.9875 - val_loss: 0.0173 - val_accuracy: 0.9947\n",
      "Epoch 14/100\n",
      "169/169 [==============================] - 1s 6ms/step - loss: 0.0461 - accuracy: 0.9917 - val_loss: 0.0309 - val_accuracy: 0.9947\n",
      "Epoch 15/100\n",
      "169/169 [==============================] - 1s 6ms/step - loss: 0.0557 - accuracy: 0.9869 - val_loss: 0.0396 - val_accuracy: 0.9973\n",
      "Epoch 16/100\n",
      "169/169 [==============================] - 1s 6ms/step - loss: 0.1251 - accuracy: 0.9831 - val_loss: 0.0946 - val_accuracy: 0.9840\n",
      "Epoch 17/100\n",
      "169/169 [==============================] - 1s 6ms/step - loss: 0.1975 - accuracy: 0.9718 - val_loss: 0.0238 - val_accuracy: 0.9973\n",
      "Epoch 18/100\n",
      "169/169 [==============================] - 1s 6ms/step - loss: 0.1452 - accuracy: 0.9852 - val_loss: 0.0567 - val_accuracy: 0.9867\n",
      "Epoch 19/100\n",
      "169/169 [==============================] - 1s 6ms/step - loss: 0.1325 - accuracy: 0.9810 - val_loss: 0.0049 - val_accuracy: 0.9973\n",
      "Epoch 20/100\n",
      "169/169 [==============================] - 1s 7ms/step - loss: 0.0274 - accuracy: 0.9929 - val_loss: 0.0165 - val_accuracy: 0.9973\n",
      "Epoch 21/100\n",
      "169/169 [==============================] - 1s 6ms/step - loss: 0.0085 - accuracy: 0.9970 - val_loss: 0.0033 - val_accuracy: 1.0000\n",
      "Epoch 22/100\n",
      "169/169 [==============================] - 1s 6ms/step - loss: 0.0120 - accuracy: 0.9976 - val_loss: 0.0138 - val_accuracy: 0.9947\n",
      "Epoch 23/100\n",
      "169/169 [==============================] - 1s 6ms/step - loss: 0.0133 - accuracy: 0.9958 - val_loss: 0.0362 - val_accuracy: 0.9893\n",
      "Epoch 24/100\n",
      "169/169 [==============================] - 1s 6ms/step - loss: 0.0226 - accuracy: 0.9932 - val_loss: 0.0129 - val_accuracy: 0.9920\n",
      "Epoch 25/100\n",
      "169/169 [==============================] - 1s 6ms/step - loss: 0.0201 - accuracy: 0.9944 - val_loss: 0.0060 - val_accuracy: 0.9973\n",
      "Epoch 26/100\n",
      "169/169 [==============================] - 1s 6ms/step - loss: 0.0116 - accuracy: 0.9967 - val_loss: 0.0116 - val_accuracy: 0.9973\n",
      "Epoch 27/100\n",
      "169/169 [==============================] - 1s 6ms/step - loss: 0.0203 - accuracy: 0.9938 - val_loss: 0.0365 - val_accuracy: 0.9867\n",
      "Epoch 28/100\n",
      "169/169 [==============================] - 1s 6ms/step - loss: 0.0175 - accuracy: 0.9947 - val_loss: 0.0844 - val_accuracy: 0.9867\n",
      "Epoch 29/100\n",
      "169/169 [==============================] - 1s 6ms/step - loss: 0.0700 - accuracy: 0.9866 - val_loss: 0.0157 - val_accuracy: 0.9947\n",
      "Epoch 30/100\n",
      "169/169 [==============================] - 1s 6ms/step - loss: 0.0489 - accuracy: 0.9902 - val_loss: 0.0165 - val_accuracy: 0.9893\n",
      "Epoch 31/100\n",
      "169/169 [==============================] - 1s 6ms/step - loss: 0.0551 - accuracy: 0.9863 - val_loss: 0.0087 - val_accuracy: 0.9947\n"
     ]
    },
    {
     "data": {
      "text/plain": [
       "<function matplotlib.pyplot.show(*args, **kw)>"
      ]
     },
     "execution_count": 200,
     "metadata": {},
     "output_type": "execute_result"
    },
    {
     "data": {
      "image/png": "[encoded data removed]",
      "text/plain": [
       "<Figure size 720x576 with 1 Axes>"
      ]
     },
     "metadata": {
      "needs_background": "light"
     },
     "output_type": "display_data"
    }
   ],
   "source": [
    "from keras.callbacks import EarlyStopping\n",
    "callback = EarlyStopping(monitor='val_loss', patience=10)\n",
    "\n",
    "num_classes=2\n",
    "sample_shape = mfcc_train[0].shape\n",
    "\n",
    "model_new = Sequential()\n",
    "model_new.add(Conv1D(32, kernel_size=(3),\n",
    "                 padding='same', input_shape = sample_shape))\n",
    "model_new.add(LeakyReLU(alpha=0.1))\n",
    "#model_new.add(keras.layers.Activation('relu'))\n",
    "model_new.add(MaxPooling1D((2), padding='same'))\n",
    "\n",
    "model_new.add(Conv1D(64, (3), padding='same'))\n",
    "model_new.add(LeakyReLU(alpha=0.1))\n",
    "#model_new.add(keras.layers.Activation('relu'))\n",
    "model_new.add(MaxPooling1D(pool_size=(2), padding='same'))\n",
    "\n",
    "model_new.add(Conv1D(64, (3), padding='same'))\n",
    "model_new.add(LeakyReLU(alpha=0.1))\n",
    "model_new.add(MaxPooling1D(pool_size=(2),padding='same'))\n",
    "model_new.add(Dropout(0.2))\n",
    "\n",
    "model_new.add(Flatten())\n",
    "model_new.add(Dense(128))\n",
    "model_new.add(LeakyReLU(alpha=0.1))\n",
    "#model_new.add(keras.layers.Activation('relu'))\n",
    "model_new.add(Dense(num_classes-1, activation='sigmoid'))\n",
    "\n",
    "model_new.compile(loss=keras.losses.binary_crossentropy, optimizer=keras.optimizers.Adam(),metrics=['accuracy'])\n",
    "\n",
    "fit_mo = model_new.fit( mfcc_train, y_train, epochs=100, batch_size=20, verbose=1, validation_split=0.1, callbacks=[callback])\n",
    "plt.figure(figsize = (10, 8))\n",
    "plt.plot(fit_mo.history['loss'], label = 'train_loss')\n",
    "plt.plot(fit_mo.history['val_loss'], label = 'val_loss')\n",
    "plt.xlabel('Epochs')\n",
    "plt.ylabel('Loss')\n",
    "\n",
    "plt.grid\n",
    "plt.legend()\n",
    "plt.show"
   ]
  },
  {
   "cell_type": "code",
   "execution_count": 201,
   "metadata": {},
   "outputs": [
    {
     "name": "stdout",
     "output_type": "stream",
     "text": [
      "936\n",
      "              precision    recall  f1-score   support\n",
      "\n",
      "       merd3       0.99      0.99      0.99       470\n",
      "       merd7       0.99      0.98      0.99       466\n",
      "\n",
      "    accuracy                           0.99       936\n",
      "   macro avg       0.99      0.99      0.99       936\n",
      "weighted avg       0.99      0.99      0.99       936\n",
      "\n"
     ]
    },
    {
     "data": {
      "image/png": "[encoded data removed]",
      "text/plain": [
       "<Figure size 432x432 with 2 Axes>"
      ]
     },
     "metadata": {
      "needs_background": "light"
     },
     "output_type": "display_data"
    }
   ],
   "source": [
    "\n",
    "y_pred = model_new.predict(mfcc_test)\n",
    "print(len(y_pred))\n",
    "\n",
    "y_predd=[]\n",
    "for i in range(len(y_pred)):\n",
    "        if y_pred[i]>0.5:\n",
    "            y_predd.append(1)\n",
    "        else:\n",
    "            y_predd.append(0)\n",
    "\n",
    "\n",
    "cm = confusion_matrix(y_test, y_predd)\n",
    "plot_confusion_matrix(cm, targets)\n",
    "\n",
    "class_rep = sklearn.metrics.classification_report(y_test, y_predd, \n",
    "                                     target_names = targets)\n",
    "print(class_rep)\n"
   ]
  },
  {
   "cell_type": "code",
   "execution_count": null,
   "metadata": {},
   "outputs": [],
   "source": []
  }
 ],
 "metadata": {
  "kernelspec": {
   "display_name": "Python 3",
   "language": "python",
   "name": "python3"
  },
  "language_info": {
   "codemirror_mode": {
    "name": "ipython",
    "version": 3
   },
   "file_extension": ".py",
   "mimetype": "text/x-python",
   "name": "python",
   "nbconvert_exporter": "python",
   "pygments_lexer": "ipython3",
   "version": "3.8.3"
  }
 },
 "nbformat": 4,
 "nbformat_minor": 4
}
