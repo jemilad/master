{
 "cells": [
  {
   "cell_type": "code",
   "execution_count": 1,
   "id": "b1c68591-0d0d-4a25-9c8b-67f149a62948",
   "metadata": {},
   "outputs": [],
   "source": [
    "import librosa\n",
    "import os\n",
    "# for data transformation \n",
    "import numpy as np  \n",
    "#splitting into train and test\n",
    "from sklearn.model_selection import train_test_split\n",
    "from tensorflow import keras\n",
    "    \n",
    "def get_path(path):\n",
    "    newpath = []\n",
    "    os.chdir(path)\n",
    "    for file in os.listdir():\n",
    "        if file.endswith(\".wav\"):\n",
    "            file_path = f\"{path}\\{file}\"\n",
    "            newpath.append(file_path)\n",
    "    return newpath\n",
    "\n",
    "def make_data_4class(f1, f2, f3, f4, datadir, num_class):\n",
    "    targets_dir = [f1, f2, f3, f4]\n",
    "    data_arr = []\n",
    "    target_arr = []\n",
    "    wrong = []\n",
    "    for i in targets_dir:\n",
    "        print(f'loading... category: {i}')\n",
    "        path = os.path.join(datadir,i)\n",
    "        paths = get_path(path) \n",
    "        for j in range(len(paths)):\n",
    "            tempsignal, tempsample_rate = librosa.load(paths[j], sr=None)\n",
    "            if len(tempsignal) == tempsample_rate*10:\n",
    "                data_arr.append(tempsignal)\n",
    "                sample_rate = tempsample_rate\n",
    "                target_arr.append(targets_dir.index(i))\n",
    "            else: \n",
    "                wrong.append(tempsignal)\n",
    "        print(f'loaded category: {i} successfully')\n",
    "  \n",
    "    data = np.array(data_arr)\n",
    "\n",
    "    target = np.array(target_arr)\n",
    "\n",
    "    \n",
    "    #split in test and train\n",
    "    X_train, X_test, y_train, y_test = train_test_split(data, target, test_size=0.2, random_state=42, shuffle=True)\n",
    "    \n",
    "    x_train = (X_train - X_train.mean()) / X_train.std()\n",
    "    x_test = (X_test - X_test.mean()) / X_test.std()\n",
    "    y_cat_train = keras.utils.to_categorical(y_train, num_class)\n",
    "    y_cat_test = keras.utils.to_categorical(y_test, num_class)\n",
    "    \n",
    "    return x_train, x_test, y_train, y_test, y_cat_train, y_cat_test, sample_rate\n",
    "    \n",
    "\n",
    "\n"
   ]
  },
  {
   "cell_type": "code",
   "execution_count": null,
   "id": "0f1eddf1-fb4c-4f1d-b864-f6e2293b9929",
   "metadata": {},
   "outputs": [],
   "source": []
  }
 ],
 "metadata": {
  "kernelspec": {
   "display_name": "master",
   "language": "python",
   "name": "master"
  },
  "language_info": {
   "codemirror_mode": {
    "name": "ipython",
    "version": 3
   },
   "file_extension": ".py",
   "mimetype": "text/x-python",
   "name": "python",
   "nbconvert_exporter": "python",
   "pygments_lexer": "ipython3",
   "version": "3.7.12"
  }
 },
 "nbformat": 4,
 "nbformat_minor": 5
}
