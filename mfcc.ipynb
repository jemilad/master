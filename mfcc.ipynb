{
 "cells": [
  {
   "cell_type": "code",
   "execution_count": null,
   "id": "53fcb171-6767-429f-b74b-f7ee380ae5fd",
   "metadata": {},
   "outputs": [],
   "source": [
    "import librosa\n",
    "import numpy as np  \n",
    "def mfcc_data(x_train, x_test, sample_rate):\n",
    "    mfcc_data_arr_train = []\n",
    "    for i in range(len(x_train)):\n",
    "        hop_length = 512 \n",
    "        n_fft = 2048\n",
    "        mfcc = librosa.feature.mfcc(y=x_train[i], sr=sample_rate, n_fft=n_fft, hop_length=hop_length, n_mfcc=13)\n",
    "        mfcc_data_arr_train.append(mfcc)\n",
    "    mfcc_train = np.array(mfcc_data_arr_train)\n",
    "\n",
    "    mfcc_data_arr_test = []\n",
    "    for i in range(len(x_test)):\n",
    "        hop_length = 512 \n",
    "        n_fft = 2048\n",
    "        mfcc = librosa.feature.mfcc(y=x_test[i], sr=sample_rate, n_fft=n_fft, hop_length=hop_length, n_mfcc=13)\n",
    "        mfcc_data_arr_test.append(mfcc)\n",
    "    mfcc_test = np.array(mfcc_data_arr_test)\n",
    "    \n",
    "    return mfcc_train, mfcc_test"
   ]
  },
  {
   "cell_type": "code",
   "execution_count": null,
   "id": "58f77d7e-f35c-4049-9c65-e7e3696f7b6a",
   "metadata": {},
   "outputs": [],
   "source": []
  }
 ],
 "metadata": {
  "kernelspec": {
   "display_name": "master",
   "language": "python",
   "name": "master"
  },
  "language_info": {
   "codemirror_mode": {
    "name": "ipython",
    "version": 3
   },
   "file_extension": ".py",
   "mimetype": "text/x-python",
   "name": "python",
   "nbconvert_exporter": "python",
   "pygments_lexer": "ipython3",
   "version": "3.7.12"
  }
 },
 "nbformat": 4,
 "nbformat_minor": 5
}
